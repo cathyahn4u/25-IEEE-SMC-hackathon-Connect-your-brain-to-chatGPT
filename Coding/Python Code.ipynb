{
  "nbformat": 4,
  "nbformat_minor": 0,
  "metadata": {
    "colab": {
      "provenance": []
    },
    "kernelspec": {
      "name": "python3",
      "display_name": "Python 3"
    },
    "language_info": {
      "name": "python"
    }
  },
  "cells": [
    {
      "cell_type": "markdown",
      "source": [
        "# MindBridge: Connecting the Brain to ChatGPT\n",
        "### Unified Cognitive–Emotional–BCI AI System\n",
        "\n",
        "This notebook integrates three research streams:\n",
        "1. **Cognitive-to-Linguistic Interface**  \n",
        "2. **Emotionally Adaptive ChatGPT**  \n",
        "3. **Brain-Controlled ChatGPT Interface**\n",
        "\n",
        "We use EEG data from two datasets:\n",
        "- PhysioNet EEG Motor/Imagery  [(Resource)](https://physionet.org/content/eegmmidb/1.0.0/?utm_source=chatgpt.com)\n",
        "- EEG Emotion Classification Dataset  [(Resource)](https://zenodo.org/records/14787743?utm_source=chatgpt.com)\n",
        "\n",
        "The system extracts EEG features, maps them to emotional/cognitive states, and dynamically adjusts ChatGPT prompts for context-aware, adaptive responses."
      ],
      "metadata": {
        "id": "nlOpEYjU-_yO"
      }
    },
    {
      "cell_type": "markdown",
      "source": [
        "## Setup & Installation\n",
        "In this cell, we install all dependencies required for EEG preprocessing, model building, and API integration."
      ],
      "metadata": {
        "id": "CsYCPi5L_3W5"
      }
    },
    {
      "cell_type": "code",
      "source": [
        "!pip install mne numpy pandas matplotlib scikit-learn tensorflow keras openai\n"
      ],
      "metadata": {
        "colab": {
          "base_uri": "https://localhost:8080/"
        },
        "id": "Dxnx6K6bABXx",
        "outputId": "0c02e080-56ab-4d40-c5aa-e41f371a6f6f"
      },
      "execution_count": 1,
      "outputs": [
        {
          "output_type": "stream",
          "name": "stdout",
          "text": [
            "Collecting mne\n",
            "  Downloading mne-1.10.1-py3-none-any.whl.metadata (20 kB)\n",
            "Requirement already satisfied: numpy in /usr/local/lib/python3.12/dist-packages (2.0.2)\n",
            "Requirement already satisfied: pandas in /usr/local/lib/python3.12/dist-packages (2.2.2)\n",
            "Requirement already satisfied: matplotlib in /usr/local/lib/python3.12/dist-packages (3.10.0)\n",
            "Requirement already satisfied: scikit-learn in /usr/local/lib/python3.12/dist-packages (1.6.1)\n",
            "Requirement already satisfied: tensorflow in /usr/local/lib/python3.12/dist-packages (2.19.0)\n",
            "Requirement already satisfied: keras in /usr/local/lib/python3.12/dist-packages (3.10.0)\n",
            "Requirement already satisfied: openai in /usr/local/lib/python3.12/dist-packages (1.109.1)\n",
            "Requirement already satisfied: decorator in /usr/local/lib/python3.12/dist-packages (from mne) (4.4.2)\n",
            "Requirement already satisfied: jinja2 in /usr/local/lib/python3.12/dist-packages (from mne) (3.1.6)\n",
            "Requirement already satisfied: lazy-loader>=0.3 in /usr/local/lib/python3.12/dist-packages (from mne) (0.4)\n",
            "Requirement already satisfied: packaging in /usr/local/lib/python3.12/dist-packages (from mne) (25.0)\n",
            "Requirement already satisfied: pooch>=1.5 in /usr/local/lib/python3.12/dist-packages (from mne) (1.8.2)\n",
            "Requirement already satisfied: scipy>=1.11 in /usr/local/lib/python3.12/dist-packages (from mne) (1.16.2)\n",
            "Requirement already satisfied: tqdm in /usr/local/lib/python3.12/dist-packages (from mne) (4.67.1)\n",
            "Requirement already satisfied: python-dateutil>=2.8.2 in /usr/local/lib/python3.12/dist-packages (from pandas) (2.9.0.post0)\n",
            "Requirement already satisfied: pytz>=2020.1 in /usr/local/lib/python3.12/dist-packages (from pandas) (2025.2)\n",
            "Requirement already satisfied: tzdata>=2022.7 in /usr/local/lib/python3.12/dist-packages (from pandas) (2025.2)\n",
            "Requirement already satisfied: contourpy>=1.0.1 in /usr/local/lib/python3.12/dist-packages (from matplotlib) (1.3.3)\n",
            "Requirement already satisfied: cycler>=0.10 in /usr/local/lib/python3.12/dist-packages (from matplotlib) (0.12.1)\n",
            "Requirement already satisfied: fonttools>=4.22.0 in /usr/local/lib/python3.12/dist-packages (from matplotlib) (4.60.1)\n",
            "Requirement already satisfied: kiwisolver>=1.3.1 in /usr/local/lib/python3.12/dist-packages (from matplotlib) (1.4.9)\n",
            "Requirement already satisfied: pillow>=8 in /usr/local/lib/python3.12/dist-packages (from matplotlib) (11.3.0)\n",
            "Requirement already satisfied: pyparsing>=2.3.1 in /usr/local/lib/python3.12/dist-packages (from matplotlib) (3.2.5)\n",
            "Requirement already satisfied: joblib>=1.2.0 in /usr/local/lib/python3.12/dist-packages (from scikit-learn) (1.5.2)\n",
            "Requirement already satisfied: threadpoolctl>=3.1.0 in /usr/local/lib/python3.12/dist-packages (from scikit-learn) (3.6.0)\n",
            "Requirement already satisfied: absl-py>=1.0.0 in /usr/local/lib/python3.12/dist-packages (from tensorflow) (1.4.0)\n",
            "Requirement already satisfied: astunparse>=1.6.0 in /usr/local/lib/python3.12/dist-packages (from tensorflow) (1.6.3)\n",
            "Requirement already satisfied: flatbuffers>=24.3.25 in /usr/local/lib/python3.12/dist-packages (from tensorflow) (25.9.23)\n",
            "Requirement already satisfied: gast!=0.5.0,!=0.5.1,!=0.5.2,>=0.2.1 in /usr/local/lib/python3.12/dist-packages (from tensorflow) (0.6.0)\n",
            "Requirement already satisfied: google-pasta>=0.1.1 in /usr/local/lib/python3.12/dist-packages (from tensorflow) (0.2.0)\n",
            "Requirement already satisfied: libclang>=13.0.0 in /usr/local/lib/python3.12/dist-packages (from tensorflow) (18.1.1)\n",
            "Requirement already satisfied: opt-einsum>=2.3.2 in /usr/local/lib/python3.12/dist-packages (from tensorflow) (3.4.0)\n",
            "Requirement already satisfied: protobuf!=4.21.0,!=4.21.1,!=4.21.2,!=4.21.3,!=4.21.4,!=4.21.5,<6.0.0dev,>=3.20.3 in /usr/local/lib/python3.12/dist-packages (from tensorflow) (5.29.5)\n",
            "Requirement already satisfied: requests<3,>=2.21.0 in /usr/local/lib/python3.12/dist-packages (from tensorflow) (2.32.4)\n",
            "Requirement already satisfied: setuptools in /usr/local/lib/python3.12/dist-packages (from tensorflow) (75.2.0)\n",
            "Requirement already satisfied: six>=1.12.0 in /usr/local/lib/python3.12/dist-packages (from tensorflow) (1.17.0)\n",
            "Requirement already satisfied: termcolor>=1.1.0 in /usr/local/lib/python3.12/dist-packages (from tensorflow) (3.1.0)\n",
            "Requirement already satisfied: typing-extensions>=3.6.6 in /usr/local/lib/python3.12/dist-packages (from tensorflow) (4.15.0)\n",
            "Requirement already satisfied: wrapt>=1.11.0 in /usr/local/lib/python3.12/dist-packages (from tensorflow) (1.17.3)\n",
            "Requirement already satisfied: grpcio<2.0,>=1.24.3 in /usr/local/lib/python3.12/dist-packages (from tensorflow) (1.75.1)\n",
            "Requirement already satisfied: tensorboard~=2.19.0 in /usr/local/lib/python3.12/dist-packages (from tensorflow) (2.19.0)\n",
            "Requirement already satisfied: h5py>=3.11.0 in /usr/local/lib/python3.12/dist-packages (from tensorflow) (3.14.0)\n",
            "Requirement already satisfied: ml-dtypes<1.0.0,>=0.5.1 in /usr/local/lib/python3.12/dist-packages (from tensorflow) (0.5.3)\n",
            "Requirement already satisfied: rich in /usr/local/lib/python3.12/dist-packages (from keras) (13.9.4)\n",
            "Requirement already satisfied: namex in /usr/local/lib/python3.12/dist-packages (from keras) (0.1.0)\n",
            "Requirement already satisfied: optree in /usr/local/lib/python3.12/dist-packages (from keras) (0.17.0)\n",
            "Requirement already satisfied: anyio<5,>=3.5.0 in /usr/local/lib/python3.12/dist-packages (from openai) (4.11.0)\n",
            "Requirement already satisfied: distro<2,>=1.7.0 in /usr/local/lib/python3.12/dist-packages (from openai) (1.9.0)\n",
            "Requirement already satisfied: httpx<1,>=0.23.0 in /usr/local/lib/python3.12/dist-packages (from openai) (0.28.1)\n",
            "Requirement already satisfied: jiter<1,>=0.4.0 in /usr/local/lib/python3.12/dist-packages (from openai) (0.11.0)\n",
            "Requirement already satisfied: pydantic<3,>=1.9.0 in /usr/local/lib/python3.12/dist-packages (from openai) (2.11.9)\n",
            "Requirement already satisfied: sniffio in /usr/local/lib/python3.12/dist-packages (from openai) (1.3.1)\n",
            "Requirement already satisfied: idna>=2.8 in /usr/local/lib/python3.12/dist-packages (from anyio<5,>=3.5.0->openai) (3.10)\n",
            "Requirement already satisfied: wheel<1.0,>=0.23.0 in /usr/local/lib/python3.12/dist-packages (from astunparse>=1.6.0->tensorflow) (0.45.1)\n",
            "Requirement already satisfied: certifi in /usr/local/lib/python3.12/dist-packages (from httpx<1,>=0.23.0->openai) (2025.8.3)\n",
            "Requirement already satisfied: httpcore==1.* in /usr/local/lib/python3.12/dist-packages (from httpx<1,>=0.23.0->openai) (1.0.9)\n",
            "Requirement already satisfied: h11>=0.16 in /usr/local/lib/python3.12/dist-packages (from httpcore==1.*->httpx<1,>=0.23.0->openai) (0.16.0)\n",
            "Requirement already satisfied: platformdirs>=2.5.0 in /usr/local/lib/python3.12/dist-packages (from pooch>=1.5->mne) (4.4.0)\n",
            "Requirement already satisfied: annotated-types>=0.6.0 in /usr/local/lib/python3.12/dist-packages (from pydantic<3,>=1.9.0->openai) (0.7.0)\n",
            "Requirement already satisfied: pydantic-core==2.33.2 in /usr/local/lib/python3.12/dist-packages (from pydantic<3,>=1.9.0->openai) (2.33.2)\n",
            "Requirement already satisfied: typing-inspection>=0.4.0 in /usr/local/lib/python3.12/dist-packages (from pydantic<3,>=1.9.0->openai) (0.4.2)\n",
            "Requirement already satisfied: charset_normalizer<4,>=2 in /usr/local/lib/python3.12/dist-packages (from requests<3,>=2.21.0->tensorflow) (3.4.3)\n",
            "Requirement already satisfied: urllib3<3,>=1.21.1 in /usr/local/lib/python3.12/dist-packages (from requests<3,>=2.21.0->tensorflow) (2.5.0)\n",
            "Requirement already satisfied: markdown>=2.6.8 in /usr/local/lib/python3.12/dist-packages (from tensorboard~=2.19.0->tensorflow) (3.9)\n",
            "Requirement already satisfied: tensorboard-data-server<0.8.0,>=0.7.0 in /usr/local/lib/python3.12/dist-packages (from tensorboard~=2.19.0->tensorflow) (0.7.2)\n",
            "Requirement already satisfied: werkzeug>=1.0.1 in /usr/local/lib/python3.12/dist-packages (from tensorboard~=2.19.0->tensorflow) (3.1.3)\n",
            "Requirement already satisfied: MarkupSafe>=2.0 in /usr/local/lib/python3.12/dist-packages (from jinja2->mne) (3.0.3)\n",
            "Requirement already satisfied: markdown-it-py>=2.2.0 in /usr/local/lib/python3.12/dist-packages (from rich->keras) (4.0.0)\n",
            "Requirement already satisfied: pygments<3.0.0,>=2.13.0 in /usr/local/lib/python3.12/dist-packages (from rich->keras) (2.19.2)\n",
            "Requirement already satisfied: mdurl~=0.1 in /usr/local/lib/python3.12/dist-packages (from markdown-it-py>=2.2.0->rich->keras) (0.1.2)\n",
            "Downloading mne-1.10.1-py3-none-any.whl (7.4 MB)\n",
            "\u001b[2K   \u001b[90m━━━━━━━━━━━━━━━━━━━━━━━━━━━━━━━━━━━━━━━━\u001b[0m \u001b[32m7.4/7.4 MB\u001b[0m \u001b[31m56.3 MB/s\u001b[0m eta \u001b[36m0:00:00\u001b[0m\n",
            "\u001b[?25hInstalling collected packages: mne\n",
            "Successfully installed mne-1.10.1\n"
          ]
        }
      ]
    },
    {
      "cell_type": "markdown",
      "source": [
        "## Import All necessary Libraries\n",
        "Import all key libraries for EEG data manipulation, visualization, and model building"
      ],
      "metadata": {
        "id": "vEwz9p2rAPq2"
      }
    },
    {
      "cell_type": "code",
      "source": [
        "import os\n",
        "import numpy as np\n",
        "import pandas as pd\n",
        "import mne\n",
        "import shutil\n",
        "import os\n",
        "import matplotlib.pyplot as plt\n",
        "from sklearn.model_selection import train_test_split\n",
        "from sklearn.preprocessing import StandardScaler, LabelEncoder\n",
        "from tensorflow.keras.models import Sequential\n",
        "from tensorflow.keras.layers import Dense, Dropout\n",
        "import openai\n"
      ],
      "metadata": {
        "id": "33iQ-zFdAWiB"
      },
      "execution_count": 2,
      "outputs": []
    },
    {
      "cell_type": "markdown",
      "source": [
        "## Upload DataSets and UnZip"
      ],
      "metadata": {
        "id": "GNBieZqQAh8z"
      }
    },
    {
      "cell_type": "code",
      "source": [
        "# Define your zip file paths\n",
        "physionet_zip = \"/content/drive/MyDrive/data/PhysioNet_EEG.zip\"\n",
        "emotion_zip = \"/content/drive/MyDrive/data/EEG_Emotion_Dataset.zip\"\n",
        "\n",
        "# Define your target extraction directories\n",
        "physionet_folder = \"/content/data/physionet\"\n",
        "emotion_folder = \"/content/data/emotion_eeg\"\n",
        "\n",
        "# Create directories if they don't exist\n",
        "os.makedirs(physionet_folder, exist_ok=True)\n",
        "os.makedirs(emotion_folder, exist_ok=True)\n",
        "\n",
        "# --- Unzip PhysioNet dataset ---\n",
        "shutil.unpack_archive(physionet_zip, physionet_folder)\n",
        "print(\"✅ PhysioNet dataset unzipped successfully at:\", physionet_folder)\n",
        "\n",
        "# --- Unzip Emotion EEG dataset ---\n",
        "shutil.unpack_archive(emotion_zip, emotion_folder)\n",
        "print(\"✅ Emotion EEG dataset unzipped successfully at:\", emotion_folder)\n"
      ],
      "metadata": {
        "id": "JA04VB9NCmBz"
      },
      "execution_count": null,
      "outputs": []
    },
    {
      "cell_type": "markdown",
      "source": [
        "## Load PhysioNet EEG Data\n",
        "Load and visualize an EEG sample from PhysioNet.\n",
        "This dataset will be used for cognitive and motor-intent decoding."
      ],
      "metadata": {
        "id": "rHSXm_ZsAosc"
      }
    },
    {
      "cell_type": "code",
      "source": [
        "edf_file = os.path.join(PHYSIONET_PATH, \"S001R01.edf\")  # example file\n",
        "raw = mne.io.read_raw_edf(edf_file, preload=True)\n",
        "raw.filter(0.5, 45)\n",
        "\n",
        "print(raw.info)\n",
        "raw.plot(duration=5, n_channels=10)\n"
      ],
      "metadata": {
        "id": "ROlFo7GcA1N1"
      },
      "execution_count": null,
      "outputs": []
    },
    {
      "cell_type": "markdown",
      "source": [
        "## Extract Cognitive Features\n",
        "Convert EEG signals to frequency-domain features such as Power Spectral Density (PSD) and Differential Entropy (DE), which represent mental activity patterns."
      ],
      "metadata": {
        "id": "ZogJZQXUA8--"
      }
    },
    {
      "cell_type": "code",
      "source": [
        "def extract_features(eeg_data):\n",
        "    psd, freqs = mne.time_frequency.psd_welch(eeg_data, fmin=0.5, fmax=45, n_fft=256)\n",
        "    return np.mean(psd, axis=1)\n",
        "\n",
        "cognitive_features = extract_features(raw)\n",
        "print(\"Feature shape:\", cognitive_features.shape)\n"
      ],
      "metadata": {
        "id": "XGUsfQoKBELZ"
      },
      "execution_count": null,
      "outputs": []
    },
    {
      "cell_type": "markdown",
      "source": [
        "## Load Emotion EEG Dataset\n",
        "Now, we load the second dataset — EEG Emotion Classification (Biosemi or Muse2).\n",
        "This dataset helps train the Emotionally Adaptive component."
      ],
      "metadata": {
        "id": "OBOpianRBGZx"
      }
    },
    {
      "cell_type": "code",
      "source": [
        "emotion_file = os.path.join(EMOTION_PATH, \"participant_01.csv\")\n",
        "emotion_data = pd.read_csv(emotion_file)\n",
        "\n",
        "print(\"Columns:\", emotion_data.columns)\n",
        "emotion_data.head()\n"
      ],
      "metadata": {
        "id": "J9uF-7IUBNIu"
      },
      "execution_count": null,
      "outputs": []
    },
    {
      "cell_type": "markdown",
      "source": [
        "## Emotion Feature Preprocessing\n",
        "Normalize EEG features and encode emotion labels (happy, sad, calm, angry)."
      ],
      "metadata": {
        "id": "ba5XRjuDBOxT"
      }
    },
    {
      "cell_type": "code",
      "source": [
        "X = emotion_data.drop(columns=['label'])\n",
        "y = emotion_data['label']\n",
        "\n",
        "le = LabelEncoder()\n",
        "y_encoded = le.fit_transform(y)\n",
        "\n",
        "scaler = StandardScaler()\n",
        "X_scaled = scaler.fit_transform(X)\n",
        "\n",
        "print(\"Preprocessed Emotion Data Shape:\", X_scaled.shape)\n"
      ],
      "metadata": {
        "id": "GzPbDhqgBW2n"
      },
      "execution_count": null,
      "outputs": []
    },
    {
      "cell_type": "markdown",
      "source": [
        "## Build Emotion Classification Model\n",
        "Train a simple neural network for emotion recognition.\n",
        "Later, we’ll use its output to condition ChatGPT’s tone and response style."
      ],
      "metadata": {
        "id": "AdCivmNGBYqJ"
      }
    },
    {
      "cell_type": "code",
      "source": [
        "model = Sequential([\n",
        "    Dense(128, activation='relu', input_shape=(X_scaled.shape[1],)),\n",
        "    Dropout(0.3),\n",
        "    Dense(64, activation='relu'),\n",
        "    Dense(len(np.unique(y_encoded)), activation='softmax')\n",
        "])\n",
        "\n",
        "model.compile(optimizer='adam', loss='sparse_categorical_crossentropy', metrics=['accuracy'])\n",
        "history = model.fit(X_scaled, y_encoded, epochs=15, batch_size=32, validation_split=0.2)\n"
      ],
      "metadata": {
        "id": "ZdFoGjSUBgfU"
      },
      "execution_count": null,
      "outputs": []
    },
    {
      "cell_type": "markdown",
      "source": [
        "## Multimodal Feature Fusion (M3DM Layer)\n",
        "Combine the cognitive features and emotion features into a unified embedding vector for adaptive prompt engineering."
      ],
      "metadata": {
        "id": "4O6dSnwQBly1"
      }
    },
    {
      "cell_type": "code",
      "source": [
        "def feature_fusion(cognitive_vector, emotion_vector):\n",
        "    combined = np.concatenate((cognitive_vector, np.mean(emotion_vector, axis=0)))\n",
        "    return combined / np.linalg.norm(combined)\n",
        "\n",
        "fused_features = feature_fusion(cognitive_features, X_scaled)\n",
        "print(\"Fused feature vector shape:\", fused_features.shape)\n"
      ],
      "metadata": {
        "id": "dQZQUBD-BpuJ"
      },
      "execution_count": null,
      "outputs": []
    },
    {
      "cell_type": "markdown",
      "source": [
        "## Adaptive Prompt Engineering\n",
        "Map the fused embeddings to adaptive ChatGPT prompt modifications.\n",
        "The emotional tone and cognitive signals determine response structure and complexity."
      ],
      "metadata": {
        "id": "mQECjE6vBrLD"
      }
    },
    {
      "cell_type": "code",
      "source": [
        "def generate_adaptive_prompt(emotion_label, cognitive_state):\n",
        "    if emotion_label == \"happy\":\n",
        "        style = \"enthusiastic and supportive\"\n",
        "    elif emotion_label == \"sad\":\n",
        "        style = \"calm and encouraging\"\n",
        "    else:\n",
        "        style = \"neutral and informative\"\n",
        "\n",
        "    if cognitive_state == \"focused\":\n",
        "        complexity = \"technical and detail-oriented\"\n",
        "    else:\n",
        "        complexity = \"simplified and conversational\"\n",
        "\n",
        "    return f\"Respond in a {style} tone with {complexity} explanations.\"\n",
        "\n",
        "example_prompt = generate_adaptive_prompt(\"happy\", \"focused\")\n",
        "print(example_prompt)\n"
      ],
      "metadata": {
        "id": "ior76JnIBx4J"
      },
      "execution_count": null,
      "outputs": []
    }
  ]
}